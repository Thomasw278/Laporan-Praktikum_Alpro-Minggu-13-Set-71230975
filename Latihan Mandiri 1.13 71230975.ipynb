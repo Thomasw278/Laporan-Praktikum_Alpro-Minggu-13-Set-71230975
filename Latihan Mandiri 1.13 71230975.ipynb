{
 "cells": [
  {
   "cell_type": "code",
   "execution_count": 1,
   "id": "892ffcad",
   "metadata": {},
   "outputs": [
    {
     "name": "stdout",
     "output_type": "stream",
     "text": [
      "========== Kategori Kasus Di Play Store ==========\n",
      "Berapa Kategori Aplikasi Yang Ingin Ditambahkan \n",
      "<=> 2\n",
      "Silahkan masukan nama kategori ke 1 <=> Game Online\n",
      "Berapa banyak aplikasi dalam kategori Game Online <=> 5\n",
      "Silahkan masukan nama aplikasi Game Online ke 1\n",
      "<=> Mobile Legend\n",
      "Silahkan masukan nama aplikasi Game Online ke 2\n",
      "<=> AOV\n",
      "Silahkan masukan nama aplikasi Game Online ke 3\n",
      "<=> PUBG\n",
      "Silahkan masukan nama aplikasi Game Online ke 4\n",
      "<=> DOTA\n",
      "Silahkan masukan nama aplikasi Game Online ke 5\n",
      "<=> Raft\n",
      "Silahkan masukan nama kategori ke 2 <=> Game Moba\n",
      "Berapa banyak aplikasi dalam kategori Game Moba <=> 3\n",
      "Silahkan masukan nama aplikasi Game Moba ke 1\n",
      "<=> Mobile Legend\n",
      "Silahkan masukan nama aplikasi Game Moba ke 2\n",
      "<=> AOV\n",
      "Silahkan masukan nama aplikasi Game Moba ke 3\n",
      "<=> Smash Legends\n",
      "Aplikasi kategori Game Online <=> DOTA , Mobile Legend , Raft , AOV , PUBG\n",
      "Aplikasi kategori Game Moba <=> Mobile Legend , AOV , Smash Legends\n",
      "Aplikasi yang muncul di 1 kategori <=> DOTA , Raft , Smash Legends , PUBG\n",
      "Aplikasi yang muncul dalam 2 kategori <=> Mobile Legend , AOV\n"
     ]
    }
   ],
   "source": [
    "print(\"========== Kategori Kasus Di Play Store ==========\")\n",
    "n = int(input(\"Berapa Kategori Aplikasi Yang Ingin Ditambahkan \\n<=> \"))\n",
    "hasil = {}\n",
    "pembanding = set()\n",
    "listed = []\n",
    "listed2 = []\n",
    "for i in range(n):\n",
    "    isi = set()\n",
    "    Kategori = input(f\"Silahkan masukan nama kategori ke {i + 1} <=> \")\n",
    "    n2 = int(input(f\"Berapa banyak aplikasi dalam kategori {Kategori} <=> \"))\n",
    "    for j in range (n2):\n",
    "        Aplikasi = input(f\"Silahkan masukan nama aplikasi {Kategori} ke {j + 1}\\n<=> \")\n",
    "        isi.add(Aplikasi)\n",
    "        listed.append(Aplikasi)\n",
    "    hasil[Kategori] = isi\n",
    "    pembanding = pembanding.symmetric_difference(hasil[Kategori])\n",
    "for kunci,nilai in hasil.items():\n",
    "    print (f\"Aplikasi kategori {kunci} <=> {' , '.join(nilai)}\")\n",
    "print (f\"Aplikasi yang muncul di 1 kategori <=> {' , '.join(pembanding)}\")\n",
    "for k in listed:\n",
    "    if listed.count(k) == 2:\n",
    "        listed2.append(k)\n",
    "if len(listed2) == 0:\n",
    "    print (\"Tidak Ada Aplikasi Yang muncul dikedua kategori\")\n",
    "elif len(listed2) == 1 or len(listed2) > 1:\n",
    "    listed2 = list(set(listed2))\n",
    "    print(f\"Aplikasi yang muncul dalam 2 kategori <=> {' , '.join(listed2)}\")"
   ]
  },
  {
   "cell_type": "code",
   "execution_count": 2,
   "id": "ec529fc0",
   "metadata": {},
   "outputs": [
    {
     "name": "stdout",
     "output_type": "stream",
     "text": [
      "========== Program Konversi List Menjadi Set ==========\n",
      "List [1, 2, 3, 4, 5] diubah menjadi Set {1, 2, 3, 4, 5}\n",
      "\n",
      "========== Program Konversi Set  Menjadi List ==========\n",
      "Set {1, 2, 3, 4, 5} diubah menjadi List [1, 2, 3, 4, 5]\n",
      "\n",
      "========== Program Konversi Tuple Menjadi Set ==========\n",
      "Tuple (1, 2, 3, 4, 5) diubah menjadi Set {1, 2, 3, 4, 5}\n",
      "\n",
      "========== Program Konversi Set Menjadi Tuple ==========\n",
      "Set {1, 2, 3, 4, 5} diubah menjadi Tuple (1, 2, 3, 4, 5)\n",
      "\n"
     ]
    }
   ],
   "source": [
    "a = (1,2,3,4,5)\n",
    "#Konversi 1\n",
    "print(\"========== Program Konversi List Menjadi Set ==========\")\n",
    "b = list(a)\n",
    "c = set(b)\n",
    "print(f\"List {b} diubah menjadi Set {c}\\n\")\n",
    "\n",
    "#Konversi 2\n",
    "print(\"========== Program Konversi Set  Menjadi List ==========\")\n",
    "d = list(c)\n",
    "print(f\"Set {c} diubah menjadi List {d}\\n\")\n",
    "\n",
    "#Konversi 3\n",
    "print(\"========== Program Konversi Tuple Menjadi Set ==========\")\n",
    "e = tuple(d)\n",
    "f = set(e)\n",
    "print(f\"Tuple {e} diubah menjadi Set {f}\\n\")\n",
    "\n",
    "#Konversi 4\n",
    "print(\"========== Program Konversi Set Menjadi Tuple ==========\")\n",
    "g = tuple(f)\n",
    "print(f\"Set {f} diubah menjadi Tuple {g}\\n\")"
   ]
  },
  {
   "cell_type": "code",
   "execution_count": null,
   "id": "799ee46e",
   "metadata": {},
   "outputs": [],
   "source": [
    "n1 = input(\"Masukkan Nama File Pertama dengan format 'txt'\\n>> \")\n",
    "n2 = input(\"Masukkan Nama File Kedua dengan format 'txt'\\n>> \")\n",
    "try:\n",
    "    Buka1 = open(n1)\n",
    "    Buka2 = open(n2)\n",
    "    text1 = Buka1.read().lower().split()\n",
    "    text2 = Buka2.read().lower().split()\n",
    "    text1 = set(text1)\n",
    "    text2 = set(text2)\n",
    "    hasil = text1 & text2\n",
    "    print(f\"Kata - Kata Yang Muncul Pada Kedua File Adalah {' , '.join(hasil)}\")\n",
    "except:\n",
    "    print(\"File Tidak Bisa Dibuka / File Tidak Dapat Ditemukan\")"
   ]
  }
 ],
 "metadata": {
  "kernelspec": {
   "display_name": "Python 3 (ipykernel)",
   "language": "python",
   "name": "python3"
  },
  "language_info": {
   "codemirror_mode": {
    "name": "ipython",
    "version": 3
   },
   "file_extension": ".py",
   "mimetype": "text/x-python",
   "name": "python",
   "nbconvert_exporter": "python",
   "pygments_lexer": "ipython3",
   "version": "3.11.5"
  }
 },
 "nbformat": 4,
 "nbformat_minor": 5
}
